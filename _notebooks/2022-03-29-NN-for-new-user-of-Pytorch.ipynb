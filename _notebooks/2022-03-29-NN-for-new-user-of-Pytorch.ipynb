{
  "cells": [
    {
      "cell_type": "markdown",
      "id": "421246a7-67a9-45ec-bf5b-dcf2407474a1",
      "metadata": {
        "id": "421246a7-67a9-45ec-bf5b-dcf2407474a1"
      },
      "source": [
        "# \"Model Design using Pytorch\"\n",
        "\n",
        "This is a summary of building Neural network as a template for helping new users of pytroch.\n",
        "You can implement this for your project. \n",
        "All of the result just for experimentation. You can change based on your projects requirement. "
      ]
    },
    {
      "cell_type": "code",
      "execution_count": 1,
      "id": "44325b94-68bf-4629-982c-3ac453eed408",
      "metadata": {
        "id": "44325b94-68bf-4629-982c-3ac453eed408"
      },
      "outputs": [],
      "source": [
        "import torch.nn as nn \n",
        "import torch.nn.functional as F \n",
        "import torch \n",
        "from torch import optim"
      ]
    },
    {
      "cell_type": "code",
      "execution_count": 2,
      "id": "583dd424-b178-4ee6-8c16-382df6e3d7a3",
      "metadata": {
        "id": "583dd424-b178-4ee6-8c16-382df6e3d7a3"
      },
      "outputs": [],
      "source": [
        "class SimpleNet(nn.Module):\n",
        "    ## created layers as classattributes\n",
        "    def __init__(self):\n",
        "        ## call the base class to initialize params\n",
        "        super(SimpleNet,self).__init__()\n",
        "        self.fc1 = nn.Linear(2048,256)\n",
        "        self.fc2 = nn.Linear(256,64)\n",
        "        self.fc3 = nn.Linear(64,2)\n",
        "    \n",
        "    ## Required to define how the model process the parameters\n",
        "    def forward(self,x):\n",
        "        x = x.view(-1,2048)\n",
        "        x = F.relu(self.fc1(x))\n",
        "        x = F.relu(self.fc2(x))\n",
        "        x = F.softmax(self.fc3(x),dim=1)\n",
        "        return x \n",
        "        "
      ]
    },
    {
      "cell_type": "code",
      "execution_count": 3,
      "id": "f2134174-9878-4338-9d7b-29ca231eed73",
      "metadata": {
        "colab": {
          "base_uri": "https://localhost:8080/"
        },
        "id": "f2134174-9878-4338-9d7b-29ca231eed73",
        "outputId": "6225038b-ac14-40ad-9724-9c7996197f12"
      },
      "outputs": [
        {
          "output_type": "stream",
          "name": "stdout",
          "text": [
            "SimpleNet(\n",
            "  (fc1): Linear(in_features=2048, out_features=256, bias=True)\n",
            "  (fc2): Linear(in_features=256, out_features=64, bias=True)\n",
            "  (fc3): Linear(in_features=64, out_features=2, bias=True)\n",
            ")\n"
          ]
        }
      ],
      "source": [
        "simplenet = SimpleNet()\n",
        "print(simplenet)"
      ]
    },
    {
      "cell_type": "markdown",
      "id": "5ef6322b-444f-4818-90cd-43a9c2979a50",
      "metadata": {
        "id": "5ef6322b-444f-4818-90cd-43a9c2979a50"
      },
      "source": [
        "nn.Module also supports for CNN, Dropout, and BatchNomarlization to implement in our model. "
      ]
    },
    {
      "cell_type": "markdown",
      "id": "d81f0f35-e767-494d-ae1c-f945d08241b3",
      "metadata": {
        "id": "d81f0f35-e767-494d-ae1c-f945d08241b3"
      },
      "source": [
        "## Training Loop\n",
        "implemented training loop using LeNet5 model \n"
      ]
    },
    {
      "cell_type": "code",
      "execution_count": 4,
      "id": "08e0e021-2532-46c3-bf6b-ddd2f28e3645",
      "metadata": {
        "id": "08e0e021-2532-46c3-bf6b-ddd2f28e3645"
      },
      "outputs": [],
      "source": [
        "class LeNet5(nn.Module):\n",
        "    def __init__(self):\n",
        "        super(LeNet5,self).__init__()\n",
        "        self.conv1 = nn.Conv2d(3,6,5)\n",
        "        self.conv2 = nn.Conv2d(6,16,5)\n",
        "        self.fc1 = nn.Linear(16*5*5,120)\n",
        "        self.fc2 = nn.Linear(120,84)\n",
        "        self.fc3 = nn.Linear(84,10)\n",
        "        \n",
        "    def forward(self,x):\n",
        "        x = F.max_pool2d(F.relu(self.conv1(x)),(2,2))\n",
        "        x = F.max_pool2d(F.relu(self.conv2(x)),2)\n",
        "        x = x.view(-1,int(x.nelement()/x.shape[0]))\n",
        "        x = F.relu(self.fc1(x))\n",
        "        x = F.relu(self.fc2(x))\n",
        "        x = self.fc3(x)\n",
        "        return x \n",
        "\n",
        "device = (\"cuda\" if torch.cuda.is_available() else \"cpu\")\n",
        "##move to GPU \n",
        "model = LeNet5().to(device=device)"
      ]
    },
    {
      "cell_type": "code",
      "execution_count": 6,
      "id": "ce216a07-2b10-4a2f-9838-79d5adbb2f88",
      "metadata": {
        "colab": {
          "base_uri": "https://localhost:8080/",
          "height": 84,
          "referenced_widgets": [
            "26a131495b5643bf9a950db6b0dbe8c4",
            "bc1bcd469efc4b928b4d0e20fc429a6e",
            "1823b2fbc2da466992d4cfa6a3ee0a68",
            "b1ba372493c34bf7b028a4a30ac83dcd",
            "7a9969dd0e964795a1848baeef26e610",
            "cb8547d8c6ea41d5a55c440a0778af33",
            "f6daf195fd334877a0a97f99714475c5",
            "ebbd2e12d61f49b69f83f0e0d4a70c06",
            "052453017b3c4051b7f3b5b9eb4802ee",
            "609d92f8487c43deb2e431c34f9cb926",
            "09869d4a8b0e4cf18b2c833f57727216"
          ]
        },
        "id": "ce216a07-2b10-4a2f-9838-79d5adbb2f88",
        "outputId": "04e23e08-80ac-4b69-8d2c-22352cf47527"
      },
      "outputs": [
        {
          "output_type": "stream",
          "name": "stdout",
          "text": [
            "Downloading https://www.cs.toronto.edu/~kriz/cifar-10-python.tar.gz to ./train/cifar-10-python.tar.gz\n"
          ]
        },
        {
          "output_type": "display_data",
          "data": {
            "text/plain": [
              "  0%|          | 0/170498071 [00:00<?, ?it/s]"
            ],
            "application/vnd.jupyter.widget-view+json": {
              "version_major": 2,
              "version_minor": 0,
              "model_id": "26a131495b5643bf9a950db6b0dbe8c4"
            }
          },
          "metadata": {}
        },
        {
          "output_type": "stream",
          "name": "stdout",
          "text": [
            "Extracting ./train/cifar-10-python.tar.gz to ./train/\n"
          ]
        }
      ],
      "source": [
        "from torchvision.datasets import CIFAR10\n",
        "train_data = CIFAR10(root=\"./train/\",train=True,download=True)"
      ]
    },
    {
      "cell_type": "code",
      "execution_count": 8,
      "id": "0128c441-51e3-45e1-a0b4-2344d8d06b66",
      "metadata": {
        "colab": {
          "base_uri": "https://localhost:8080/",
          "height": 84,
          "referenced_widgets": [
            "82549a8cb35e411493b977ee7de686d2",
            "903d123898494c7e94c1a9d64ab1047a",
            "70e33fc90b514d348de40bb08ea72083",
            "a4c8ff53c8ac437ebdd8dd6d629b8699",
            "5a143c5ced7446deaa72a99288aa1a7b",
            "9c96ba8bc63b463ba31a0393820b6d88",
            "71ace2771f41420995bfdff27c8aa4b9",
            "5c41de02d4244fa28cc5fb0126739741",
            "c701b923444145a5a29e63911e4849e0",
            "b465030930164ba19f68cd0c827c2139",
            "f3de94feb4bb45ac9808e2abcf113361"
          ]
        },
        "id": "0128c441-51e3-45e1-a0b4-2344d8d06b66",
        "outputId": "2ddfe2d3-d79a-44d9-e4d3-4714e76107b0"
      },
      "outputs": [
        {
          "output_type": "stream",
          "name": "stdout",
          "text": [
            "Downloading https://www.cs.toronto.edu/~kriz/cifar-10-python.tar.gz to ./test/cifar-10-python.tar.gz\n"
          ]
        },
        {
          "output_type": "display_data",
          "data": {
            "text/plain": [
              "  0%|          | 0/170498071 [00:00<?, ?it/s]"
            ],
            "application/vnd.jupyter.widget-view+json": {
              "version_major": 2,
              "version_minor": 0,
              "model_id": "82549a8cb35e411493b977ee7de686d2"
            }
          },
          "metadata": {}
        },
        {
          "output_type": "stream",
          "name": "stdout",
          "text": [
            "Extracting ./test/cifar-10-python.tar.gz to ./test/\n"
          ]
        }
      ],
      "source": [
        "test_data = CIFAR10(root=\"./test/\",train=False,download=True)"
      ]
    },
    {
      "cell_type": "markdown",
      "id": "bdea87b3-7208-46ea-b0f6-d3311e414981",
      "metadata": {
        "id": "bdea87b3-7208-46ea-b0f6-d3311e414981"
      },
      "source": [
        "## Transform the data "
      ]
    },
    {
      "cell_type": "code",
      "execution_count": 9,
      "id": "b9ca823e-007e-4e78-8dc7-a8091926845e",
      "metadata": {
        "colab": {
          "base_uri": "https://localhost:8080/"
        },
        "id": "b9ca823e-007e-4e78-8dc7-a8091926845e",
        "outputId": "906db4dd-0b52-49e8-a7dd-f9502b3e97be"
      },
      "outputs": [
        {
          "output_type": "stream",
          "name": "stdout",
          "text": [
            "Files already downloaded and verified\n"
          ]
        }
      ],
      "source": [
        "from torchvision import transforms\n",
        "\n",
        "train_transforms = transforms.Compose([\n",
        "    transforms.RandomCrop(32,padding=4),\n",
        "    transforms.RandomHorizontalFlip(),\n",
        "    transforms.ToTensor(),\n",
        "    transforms.Normalize(\n",
        "        mean = (0.4914,0.4822,0.4465),\n",
        "        std = (0.2023,0.1994,0.2010))])\n",
        "\n",
        "train_data = CIFAR10(root=\"./train/\",train=True,\n",
        "                     download=True,transform=train_transforms)\n"
      ]
    },
    {
      "cell_type": "code",
      "execution_count": 10,
      "id": "20fe0c17-ce2d-4ef6-9f31-849c232a0b51",
      "metadata": {
        "colab": {
          "base_uri": "https://localhost:8080/"
        },
        "id": "20fe0c17-ce2d-4ef6-9f31-849c232a0b51",
        "outputId": "37a895c1-f5d6-4f98-d263-994090df37d7"
      },
      "outputs": [
        {
          "output_type": "stream",
          "name": "stdout",
          "text": [
            "Files already downloaded and verified\n"
          ]
        }
      ],
      "source": [
        "from torchvision import transforms\n",
        "\n",
        "test_transforms = transforms.Compose([\n",
        "    transforms.RandomCrop(32,padding=4),\n",
        "    transforms.RandomHorizontalFlip(),\n",
        "    transforms.ToTensor(),\n",
        "    transforms.Normalize(\n",
        "        mean = (0.4914,0.4822,0.4465),\n",
        "        std = (0.2023,0.1994,0.2010))])\n",
        "\n",
        "test_data = CIFAR10(root=\"./test/\",train=False,\n",
        "                     download=True,transform=test_transforms)\n"
      ]
    },
    {
      "cell_type": "markdown",
      "id": "8f371ad4-977c-459f-a69c-3994299a5eaa",
      "metadata": {
        "id": "8f371ad4-977c-459f-a69c-3994299a5eaa"
      },
      "source": [
        "## Data Batching using DataLoader"
      ]
    },
    {
      "cell_type": "code",
      "execution_count": 11,
      "id": "895fe12e-102d-4c44-b6dd-651d7923d617",
      "metadata": {
        "id": "895fe12e-102d-4c44-b6dd-651d7923d617"
      },
      "outputs": [],
      "source": [
        "trainloader =torch.utils.data.DataLoader(train_data,\n",
        "                                         batch_size=16,\n",
        "                                         shuffle=True)"
      ]
    },
    {
      "cell_type": "code",
      "execution_count": 12,
      "id": "b0a91b2c-05a4-40a4-aefc-65d4f22f89c0",
      "metadata": {
        "id": "b0a91b2c-05a4-40a4-aefc-65d4f22f89c0"
      },
      "outputs": [],
      "source": [
        "testloader  =torch.utils.data.DataLoader(test_data,\n",
        "                                         batch_size=16,\n",
        "                                         shuffle=False)"
      ]
    },
    {
      "cell_type": "code",
      "execution_count": 13,
      "id": "5f296d3d-3716-42e6-a33f-108bff25675e",
      "metadata": {
        "colab": {
          "base_uri": "https://localhost:8080/"
        },
        "id": "5f296d3d-3716-42e6-a33f-108bff25675e",
        "outputId": "95f8b918-61dc-498d-d8bf-e8d380937abf"
      },
      "outputs": [
        {
          "output_type": "stream",
          "name": "stdout",
          "text": [
            "Epoch 1 Loss 1.8241477269363404\n",
            "Epoch 2 Loss 1.6615231191253663\n",
            "Epoch 3 Loss 1.6304866078948974\n",
            "Epoch 4 Loss 1.6164952528762817\n",
            "Epoch 5 Loss 1.5978561991500855\n",
            "Epoch 6 Loss 1.5923947086524963\n",
            "Epoch 7 Loss 1.5816101968955993\n",
            "Epoch 8 Loss 1.591676569519043\n",
            "Epoch 9 Loss 1.5898757279396056\n",
            "Epoch 10 Loss 1.5873737773704528\n"
          ]
        }
      ],
      "source": [
        "## optimization \n",
        "criterion = nn.CrossEntropyLoss()\n",
        "optimizer = optim.SGD(model.parameters(),lr=1e-2,momentum=0.9)\n",
        "\n",
        "N_EPOCHS = 10\n",
        "for epoch in range(1,N_EPOCHS+1):\n",
        "    epoch_loss = 0.0\n",
        "    \n",
        "    for inputs,labels in trainloader:\n",
        "        inputs = inputs.to(device)\n",
        "        labels = labels.to(device)\n",
        "        \n",
        "        optimizer.zero_grad()\n",
        "        outputs = model(inputs)\n",
        "        loss = criterion(outputs,labels)\n",
        "        loss.backward()\n",
        "        optimizer.step()\n",
        "        \n",
        "        epoch_loss +=loss.item()\n",
        "    print(f\"Epoch {epoch} Loss {epoch_loss/len(trainloader)}\")\n",
        "        "
      ]
    },
    {
      "cell_type": "markdown",
      "id": "4805788b-26af-43c6-8208-61f6fb9a219c",
      "metadata": {
        "id": "4805788b-26af-43c6-8208-61f6fb9a219c"
      },
      "source": [
        "## Validation "
      ]
    },
    {
      "cell_type": "code",
      "execution_count": 14,
      "id": "ed3d1cf0-204a-402c-88b9-7e75ac3e9911",
      "metadata": {
        "colab": {
          "base_uri": "https://localhost:8080/"
        },
        "id": "ed3d1cf0-204a-402c-88b9-7e75ac3e9911",
        "outputId": "e14ade61-f88f-4053-87e2-f32b9bf3becd"
      },
      "outputs": [
        {
          "output_type": "stream",
          "name": "stdout",
          "text": [
            "2500 625\n"
          ]
        }
      ],
      "source": [
        "from torch.utils.data import random_split \n",
        "train_set,val_set = random_split(train_data,[40000,10000])\n",
        "\n",
        "trainloader = torch.utils.data.DataLoader(train_set,\n",
        "                                          batch_size=16,\n",
        "                                          shuffle=True)\n",
        "valloader = torch.utils.data.DataLoader(val_set,\n",
        "                                          batch_size=16,\n",
        "                                          shuffle=True)\n",
        "\n",
        "print(len(trainloader),len(valloader))"
      ]
    },
    {
      "cell_type": "code",
      "execution_count": 15,
      "id": "b68a8eaa-6fc6-4cd4-9447-440be621f31e",
      "metadata": {
        "id": "b68a8eaa-6fc6-4cd4-9447-440be621f31e"
      },
      "outputs": [],
      "source": [
        "model = LeNet5().to(device)\n",
        "criterion = nn.CrossEntropyLoss()\n",
        "optimizer = optim.SGD(model.parameters(),lr=1e-2,momentum=0.9)"
      ]
    },
    {
      "cell_type": "code",
      "execution_count": 16,
      "id": "2c72191d-75c8-4f29-b7a8-06a55c462b3f",
      "metadata": {
        "colab": {
          "base_uri": "https://localhost:8080/"
        },
        "id": "2c72191d-75c8-4f29-b7a8-06a55c462b3f",
        "outputId": "2d88a61c-b4be-40f5-91fb-63eaeeac897d"
      },
      "outputs": [
        {
          "output_type": "stream",
          "name": "stdout",
          "text": [
            "Epoch 1 Train Loss 3.8346362232685087 Val loss 1.6857107292175293\n",
            "Epoch 2 Train Loss 5.50487792634964 Val loss 1.6504140425682068\n",
            "Epoch 3 Train Loss 7.115121179986 Val loss 1.5639411679267883\n",
            "Epoch 4 Train Loss 8.702473026013374 Val loss 1.5383020911216736\n",
            "Epoch 5 Train Loss 10.265977776813507 Val loss 1.5413660417556763\n",
            "Epoch 6 Train Loss 11.820966996860504 Val loss 1.5524281386375427\n",
            "Epoch 7 Train Loss 13.36783570830822 Val loss 1.6050877237319947\n",
            "Epoch 8 Train Loss 14.901475507044792 Val loss 1.6089960625648498\n",
            "Epoch 9 Train Loss 16.44660836327076 Val loss 1.573909682750702\n",
            "Epoch 10 Train Loss 17.996182167482377 Val loss 1.588604866695404\n"
          ]
        }
      ],
      "source": [
        "N_EPOCHS = 10\n",
        "for epoch in range(1,N_EPOCHS+1):\n",
        "    train_loss = 0.0\n",
        "    model.train()\n",
        "    for inputs,labels in trainloader:\n",
        "        inputs = inputs.to(device)\n",
        "        labels = labels.to(device)\n",
        "        \n",
        "        optimizer.zero_grad()\n",
        "        outputs = model(inputs)\n",
        "        loss = criterion(outputs,labels)\n",
        "        loss.backward()\n",
        "        optimizer.step()\n",
        "        \n",
        "        epoch_loss +=loss.item()\n",
        "        \n",
        "        \n",
        "    val_loss =0.0\n",
        "    model.eval()\n",
        "    for inputs,labels in valloader:\n",
        "        inputs = inputs.to(device)\n",
        "        labels = labels.to(device)\n",
        "        outputs = model(inputs)\n",
        "        loss = criterion(outputs,labels)\n",
        "        val_loss +=loss.item()\n",
        "    print(f\"Epoch {epoch} Train Loss {epoch_loss/len(trainloader)} Val loss {val_loss/len(valloader)}\")"
      ]
    },
    {
      "cell_type": "markdown",
      "id": "c05e0580-048e-4a24-9f4a-0c4d62a66e09",
      "metadata": {
        "id": "c05e0580-048e-4a24-9f4a-0c4d62a66e09"
      },
      "source": [
        "Validation occurs at every epoch after the training has been processed \n",
        ". During validation, the model is passed data which has not seen before. Only forward pass during validation. "
      ]
    },
    {
      "cell_type": "markdown",
      "id": "fa423dc2-1395-44e4-a8a1-14ae0bf0cf5d",
      "metadata": {
        "id": "fa423dc2-1395-44e4-a8a1-14ae0bf0cf5d"
      },
      "source": [
        "## Testing"
      ]
    },
    {
      "cell_type": "code",
      "execution_count": 17,
      "id": "28f3068e-3f5a-46c4-ab21-49042781a391",
      "metadata": {
        "colab": {
          "base_uri": "https://localhost:8080/"
        },
        "id": "28f3068e-3f5a-46c4-ab21-49042781a391",
        "outputId": "c026bb96-d815-48ad-cc90-56c60bbf72ba"
      },
      "outputs": [
        {
          "output_type": "stream",
          "name": "stdout",
          "text": [
            "Test Accuracy 0.44679999351501465\n"
          ]
        }
      ],
      "source": [
        "num_correct = 0.0 \n",
        "for x_test_batch,y_test_batch in testloader:\n",
        "    model.eval()\n",
        "    \n",
        "    y_test_batch = y_test_batch.to(device)\n",
        "    x_test_batch = x_test_batch.to(device)\n",
        "    y_pred_batch = model(x_test_batch)\n",
        "    _,predicted = torch.max(y_pred_batch,1)\n",
        "    num_correct +=(predicted==y_test_batch).float().sum()\n",
        "    \n",
        "accuracy =num_correct / (len(testloader)*testloader.batch_size)\n",
        "\n",
        "print(f\"Test Accuracy {accuracy}\")"
      ]
    },
    {
      "cell_type": "markdown",
      "id": "ddca31a3-fa87-4722-bc57-6fe30802a11a",
      "metadata": {
        "id": "ddca31a3-fa87-4722-bc57-6fe30802a11a"
      },
      "source": [
        "## Saving Models"
      ]
    },
    {
      "cell_type": "code",
      "execution_count": 18,
      "id": "c112b244-2d04-4fb2-bc64-d16da16d18a0",
      "metadata": {
        "colab": {
          "base_uri": "https://localhost:8080/"
        },
        "id": "c112b244-2d04-4fb2-bc64-d16da16d18a0",
        "outputId": "f51d6b39-4cf3-4025-ad18-b490457952a3"
      },
      "outputs": [
        {
          "output_type": "execute_result",
          "data": {
            "text/plain": [
              "<All keys matched successfully>"
            ]
          },
          "metadata": {},
          "execution_count": 18
        }
      ],
      "source": [
        "torch.save(model.state_dict(),\"./lenet5_model.pt\")\n",
        "model = LeNet5().to(device)\n",
        "model.load_state_dict(torch.load(\"./lenet5_model.pt\"))"
      ]
    },
    {
      "cell_type": "code",
      "execution_count": 18,
      "id": "f3ace7dd-a25a-4aac-8695-b47bb63e61ac",
      "metadata": {
        "id": "f3ace7dd-a25a-4aac-8695-b47bb63e61ac"
      },
      "outputs": [],
      "source": [
        ""
      ]
    }
  ],
  "metadata": {
    "kernelspec": {
      "display_name": "Python 3",
      "language": "python",
      "name": "python3"
    },
    "language_info": {
      "codemirror_mode": {
        "name": "ipython",
        "version": 3
      },
      "file_extension": ".py",
      "mimetype": "text/x-python",
      "name": "python",
      "nbconvert_exporter": "python",
      "pygments_lexer": "ipython3",
      "version": "3.9.10"
    },
    "colab": {
      "name": "2022-03-23-NN-for-new-user-of-Pytorch.ipynb",
      "provenance": []
    },
    "widgets": {
      "application/vnd.jupyter.widget-state+json": {
        "26a131495b5643bf9a950db6b0dbe8c4": {
          "model_module": "@jupyter-widgets/controls",
          "model_name": "HBoxModel",
          "model_module_version": "1.5.0",
          "state": {
            "_dom_classes": [],
            "_model_module": "@jupyter-widgets/controls",
            "_model_module_version": "1.5.0",
            "_model_name": "HBoxModel",
            "_view_count": null,
            "_view_module": "@jupyter-widgets/controls",
            "_view_module_version": "1.5.0",
            "_view_name": "HBoxView",
            "box_style": "",
            "children": [
              "IPY_MODEL_bc1bcd469efc4b928b4d0e20fc429a6e",
              "IPY_MODEL_1823b2fbc2da466992d4cfa6a3ee0a68",
              "IPY_MODEL_b1ba372493c34bf7b028a4a30ac83dcd"
            ],
            "layout": "IPY_MODEL_7a9969dd0e964795a1848baeef26e610"
          }
        },
        "bc1bcd469efc4b928b4d0e20fc429a6e": {
          "model_module": "@jupyter-widgets/controls",
          "model_name": "HTMLModel",
          "model_module_version": "1.5.0",
          "state": {
            "_dom_classes": [],
            "_model_module": "@jupyter-widgets/controls",
            "_model_module_version": "1.5.0",
            "_model_name": "HTMLModel",
            "_view_count": null,
            "_view_module": "@jupyter-widgets/controls",
            "_view_module_version": "1.5.0",
            "_view_name": "HTMLView",
            "description": "",
            "description_tooltip": null,
            "layout": "IPY_MODEL_cb8547d8c6ea41d5a55c440a0778af33",
            "placeholder": "​",
            "style": "IPY_MODEL_f6daf195fd334877a0a97f99714475c5",
            "value": ""
          }
        },
        "1823b2fbc2da466992d4cfa6a3ee0a68": {
          "model_module": "@jupyter-widgets/controls",
          "model_name": "FloatProgressModel",
          "model_module_version": "1.5.0",
          "state": {
            "_dom_classes": [],
            "_model_module": "@jupyter-widgets/controls",
            "_model_module_version": "1.5.0",
            "_model_name": "FloatProgressModel",
            "_view_count": null,
            "_view_module": "@jupyter-widgets/controls",
            "_view_module_version": "1.5.0",
            "_view_name": "ProgressView",
            "bar_style": "success",
            "description": "",
            "description_tooltip": null,
            "layout": "IPY_MODEL_ebbd2e12d61f49b69f83f0e0d4a70c06",
            "max": 170498071,
            "min": 0,
            "orientation": "horizontal",
            "style": "IPY_MODEL_052453017b3c4051b7f3b5b9eb4802ee",
            "value": 170498071
          }
        },
        "b1ba372493c34bf7b028a4a30ac83dcd": {
          "model_module": "@jupyter-widgets/controls",
          "model_name": "HTMLModel",
          "model_module_version": "1.5.0",
          "state": {
            "_dom_classes": [],
            "_model_module": "@jupyter-widgets/controls",
            "_model_module_version": "1.5.0",
            "_model_name": "HTMLModel",
            "_view_count": null,
            "_view_module": "@jupyter-widgets/controls",
            "_view_module_version": "1.5.0",
            "_view_name": "HTMLView",
            "description": "",
            "description_tooltip": null,
            "layout": "IPY_MODEL_609d92f8487c43deb2e431c34f9cb926",
            "placeholder": "​",
            "style": "IPY_MODEL_09869d4a8b0e4cf18b2c833f57727216",
            "value": " 170499072/? [00:06&lt;00:00, 31266904.55it/s]"
          }
        },
        "7a9969dd0e964795a1848baeef26e610": {
          "model_module": "@jupyter-widgets/base",
          "model_name": "LayoutModel",
          "model_module_version": "1.2.0",
          "state": {
            "_model_module": "@jupyter-widgets/base",
            "_model_module_version": "1.2.0",
            "_model_name": "LayoutModel",
            "_view_count": null,
            "_view_module": "@jupyter-widgets/base",
            "_view_module_version": "1.2.0",
            "_view_name": "LayoutView",
            "align_content": null,
            "align_items": null,
            "align_self": null,
            "border": null,
            "bottom": null,
            "display": null,
            "flex": null,
            "flex_flow": null,
            "grid_area": null,
            "grid_auto_columns": null,
            "grid_auto_flow": null,
            "grid_auto_rows": null,
            "grid_column": null,
            "grid_gap": null,
            "grid_row": null,
            "grid_template_areas": null,
            "grid_template_columns": null,
            "grid_template_rows": null,
            "height": null,
            "justify_content": null,
            "justify_items": null,
            "left": null,
            "margin": null,
            "max_height": null,
            "max_width": null,
            "min_height": null,
            "min_width": null,
            "object_fit": null,
            "object_position": null,
            "order": null,
            "overflow": null,
            "overflow_x": null,
            "overflow_y": null,
            "padding": null,
            "right": null,
            "top": null,
            "visibility": null,
            "width": null
          }
        },
        "cb8547d8c6ea41d5a55c440a0778af33": {
          "model_module": "@jupyter-widgets/base",
          "model_name": "LayoutModel",
          "model_module_version": "1.2.0",
          "state": {
            "_model_module": "@jupyter-widgets/base",
            "_model_module_version": "1.2.0",
            "_model_name": "LayoutModel",
            "_view_count": null,
            "_view_module": "@jupyter-widgets/base",
            "_view_module_version": "1.2.0",
            "_view_name": "LayoutView",
            "align_content": null,
            "align_items": null,
            "align_self": null,
            "border": null,
            "bottom": null,
            "display": null,
            "flex": null,
            "flex_flow": null,
            "grid_area": null,
            "grid_auto_columns": null,
            "grid_auto_flow": null,
            "grid_auto_rows": null,
            "grid_column": null,
            "grid_gap": null,
            "grid_row": null,
            "grid_template_areas": null,
            "grid_template_columns": null,
            "grid_template_rows": null,
            "height": null,
            "justify_content": null,
            "justify_items": null,
            "left": null,
            "margin": null,
            "max_height": null,
            "max_width": null,
            "min_height": null,
            "min_width": null,
            "object_fit": null,
            "object_position": null,
            "order": null,
            "overflow": null,
            "overflow_x": null,
            "overflow_y": null,
            "padding": null,
            "right": null,
            "top": null,
            "visibility": null,
            "width": null
          }
        },
        "f6daf195fd334877a0a97f99714475c5": {
          "model_module": "@jupyter-widgets/controls",
          "model_name": "DescriptionStyleModel",
          "model_module_version": "1.5.0",
          "state": {
            "_model_module": "@jupyter-widgets/controls",
            "_model_module_version": "1.5.0",
            "_model_name": "DescriptionStyleModel",
            "_view_count": null,
            "_view_module": "@jupyter-widgets/base",
            "_view_module_version": "1.2.0",
            "_view_name": "StyleView",
            "description_width": ""
          }
        },
        "ebbd2e12d61f49b69f83f0e0d4a70c06": {
          "model_module": "@jupyter-widgets/base",
          "model_name": "LayoutModel",
          "model_module_version": "1.2.0",
          "state": {
            "_model_module": "@jupyter-widgets/base",
            "_model_module_version": "1.2.0",
            "_model_name": "LayoutModel",
            "_view_count": null,
            "_view_module": "@jupyter-widgets/base",
            "_view_module_version": "1.2.0",
            "_view_name": "LayoutView",
            "align_content": null,
            "align_items": null,
            "align_self": null,
            "border": null,
            "bottom": null,
            "display": null,
            "flex": null,
            "flex_flow": null,
            "grid_area": null,
            "grid_auto_columns": null,
            "grid_auto_flow": null,
            "grid_auto_rows": null,
            "grid_column": null,
            "grid_gap": null,
            "grid_row": null,
            "grid_template_areas": null,
            "grid_template_columns": null,
            "grid_template_rows": null,
            "height": null,
            "justify_content": null,
            "justify_items": null,
            "left": null,
            "margin": null,
            "max_height": null,
            "max_width": null,
            "min_height": null,
            "min_width": null,
            "object_fit": null,
            "object_position": null,
            "order": null,
            "overflow": null,
            "overflow_x": null,
            "overflow_y": null,
            "padding": null,
            "right": null,
            "top": null,
            "visibility": null,
            "width": null
          }
        },
        "052453017b3c4051b7f3b5b9eb4802ee": {
          "model_module": "@jupyter-widgets/controls",
          "model_name": "ProgressStyleModel",
          "model_module_version": "1.5.0",
          "state": {
            "_model_module": "@jupyter-widgets/controls",
            "_model_module_version": "1.5.0",
            "_model_name": "ProgressStyleModel",
            "_view_count": null,
            "_view_module": "@jupyter-widgets/base",
            "_view_module_version": "1.2.0",
            "_view_name": "StyleView",
            "bar_color": null,
            "description_width": ""
          }
        },
        "609d92f8487c43deb2e431c34f9cb926": {
          "model_module": "@jupyter-widgets/base",
          "model_name": "LayoutModel",
          "model_module_version": "1.2.0",
          "state": {
            "_model_module": "@jupyter-widgets/base",
            "_model_module_version": "1.2.0",
            "_model_name": "LayoutModel",
            "_view_count": null,
            "_view_module": "@jupyter-widgets/base",
            "_view_module_version": "1.2.0",
            "_view_name": "LayoutView",
            "align_content": null,
            "align_items": null,
            "align_self": null,
            "border": null,
            "bottom": null,
            "display": null,
            "flex": null,
            "flex_flow": null,
            "grid_area": null,
            "grid_auto_columns": null,
            "grid_auto_flow": null,
            "grid_auto_rows": null,
            "grid_column": null,
            "grid_gap": null,
            "grid_row": null,
            "grid_template_areas": null,
            "grid_template_columns": null,
            "grid_template_rows": null,
            "height": null,
            "justify_content": null,
            "justify_items": null,
            "left": null,
            "margin": null,
            "max_height": null,
            "max_width": null,
            "min_height": null,
            "min_width": null,
            "object_fit": null,
            "object_position": null,
            "order": null,
            "overflow": null,
            "overflow_x": null,
            "overflow_y": null,
            "padding": null,
            "right": null,
            "top": null,
            "visibility": null,
            "width": null
          }
        },
        "09869d4a8b0e4cf18b2c833f57727216": {
          "model_module": "@jupyter-widgets/controls",
          "model_name": "DescriptionStyleModel",
          "model_module_version": "1.5.0",
          "state": {
            "_model_module": "@jupyter-widgets/controls",
            "_model_module_version": "1.5.0",
            "_model_name": "DescriptionStyleModel",
            "_view_count": null,
            "_view_module": "@jupyter-widgets/base",
            "_view_module_version": "1.2.0",
            "_view_name": "StyleView",
            "description_width": ""
          }
        },
        "82549a8cb35e411493b977ee7de686d2": {
          "model_module": "@jupyter-widgets/controls",
          "model_name": "HBoxModel",
          "model_module_version": "1.5.0",
          "state": {
            "_dom_classes": [],
            "_model_module": "@jupyter-widgets/controls",
            "_model_module_version": "1.5.0",
            "_model_name": "HBoxModel",
            "_view_count": null,
            "_view_module": "@jupyter-widgets/controls",
            "_view_module_version": "1.5.0",
            "_view_name": "HBoxView",
            "box_style": "",
            "children": [
              "IPY_MODEL_903d123898494c7e94c1a9d64ab1047a",
              "IPY_MODEL_70e33fc90b514d348de40bb08ea72083",
              "IPY_MODEL_a4c8ff53c8ac437ebdd8dd6d629b8699"
            ],
            "layout": "IPY_MODEL_5a143c5ced7446deaa72a99288aa1a7b"
          }
        },
        "903d123898494c7e94c1a9d64ab1047a": {
          "model_module": "@jupyter-widgets/controls",
          "model_name": "HTMLModel",
          "model_module_version": "1.5.0",
          "state": {
            "_dom_classes": [],
            "_model_module": "@jupyter-widgets/controls",
            "_model_module_version": "1.5.0",
            "_model_name": "HTMLModel",
            "_view_count": null,
            "_view_module": "@jupyter-widgets/controls",
            "_view_module_version": "1.5.0",
            "_view_name": "HTMLView",
            "description": "",
            "description_tooltip": null,
            "layout": "IPY_MODEL_9c96ba8bc63b463ba31a0393820b6d88",
            "placeholder": "​",
            "style": "IPY_MODEL_71ace2771f41420995bfdff27c8aa4b9",
            "value": ""
          }
        },
        "70e33fc90b514d348de40bb08ea72083": {
          "model_module": "@jupyter-widgets/controls",
          "model_name": "FloatProgressModel",
          "model_module_version": "1.5.0",
          "state": {
            "_dom_classes": [],
            "_model_module": "@jupyter-widgets/controls",
            "_model_module_version": "1.5.0",
            "_model_name": "FloatProgressModel",
            "_view_count": null,
            "_view_module": "@jupyter-widgets/controls",
            "_view_module_version": "1.5.0",
            "_view_name": "ProgressView",
            "bar_style": "success",
            "description": "",
            "description_tooltip": null,
            "layout": "IPY_MODEL_5c41de02d4244fa28cc5fb0126739741",
            "max": 170498071,
            "min": 0,
            "orientation": "horizontal",
            "style": "IPY_MODEL_c701b923444145a5a29e63911e4849e0",
            "value": 170498071
          }
        },
        "a4c8ff53c8ac437ebdd8dd6d629b8699": {
          "model_module": "@jupyter-widgets/controls",
          "model_name": "HTMLModel",
          "model_module_version": "1.5.0",
          "state": {
            "_dom_classes": [],
            "_model_module": "@jupyter-widgets/controls",
            "_model_module_version": "1.5.0",
            "_model_name": "HTMLModel",
            "_view_count": null,
            "_view_module": "@jupyter-widgets/controls",
            "_view_module_version": "1.5.0",
            "_view_name": "HTMLView",
            "description": "",
            "description_tooltip": null,
            "layout": "IPY_MODEL_b465030930164ba19f68cd0c827c2139",
            "placeholder": "​",
            "style": "IPY_MODEL_f3de94feb4bb45ac9808e2abcf113361",
            "value": " 170499072/? [00:06&lt;00:00, 32593942.54it/s]"
          }
        },
        "5a143c5ced7446deaa72a99288aa1a7b": {
          "model_module": "@jupyter-widgets/base",
          "model_name": "LayoutModel",
          "model_module_version": "1.2.0",
          "state": {
            "_model_module": "@jupyter-widgets/base",
            "_model_module_version": "1.2.0",
            "_model_name": "LayoutModel",
            "_view_count": null,
            "_view_module": "@jupyter-widgets/base",
            "_view_module_version": "1.2.0",
            "_view_name": "LayoutView",
            "align_content": null,
            "align_items": null,
            "align_self": null,
            "border": null,
            "bottom": null,
            "display": null,
            "flex": null,
            "flex_flow": null,
            "grid_area": null,
            "grid_auto_columns": null,
            "grid_auto_flow": null,
            "grid_auto_rows": null,
            "grid_column": null,
            "grid_gap": null,
            "grid_row": null,
            "grid_template_areas": null,
            "grid_template_columns": null,
            "grid_template_rows": null,
            "height": null,
            "justify_content": null,
            "justify_items": null,
            "left": null,
            "margin": null,
            "max_height": null,
            "max_width": null,
            "min_height": null,
            "min_width": null,
            "object_fit": null,
            "object_position": null,
            "order": null,
            "overflow": null,
            "overflow_x": null,
            "overflow_y": null,
            "padding": null,
            "right": null,
            "top": null,
            "visibility": null,
            "width": null
          }
        },
        "9c96ba8bc63b463ba31a0393820b6d88": {
          "model_module": "@jupyter-widgets/base",
          "model_name": "LayoutModel",
          "model_module_version": "1.2.0",
          "state": {
            "_model_module": "@jupyter-widgets/base",
            "_model_module_version": "1.2.0",
            "_model_name": "LayoutModel",
            "_view_count": null,
            "_view_module": "@jupyter-widgets/base",
            "_view_module_version": "1.2.0",
            "_view_name": "LayoutView",
            "align_content": null,
            "align_items": null,
            "align_self": null,
            "border": null,
            "bottom": null,
            "display": null,
            "flex": null,
            "flex_flow": null,
            "grid_area": null,
            "grid_auto_columns": null,
            "grid_auto_flow": null,
            "grid_auto_rows": null,
            "grid_column": null,
            "grid_gap": null,
            "grid_row": null,
            "grid_template_areas": null,
            "grid_template_columns": null,
            "grid_template_rows": null,
            "height": null,
            "justify_content": null,
            "justify_items": null,
            "left": null,
            "margin": null,
            "max_height": null,
            "max_width": null,
            "min_height": null,
            "min_width": null,
            "object_fit": null,
            "object_position": null,
            "order": null,
            "overflow": null,
            "overflow_x": null,
            "overflow_y": null,
            "padding": null,
            "right": null,
            "top": null,
            "visibility": null,
            "width": null
          }
        },
        "71ace2771f41420995bfdff27c8aa4b9": {
          "model_module": "@jupyter-widgets/controls",
          "model_name": "DescriptionStyleModel",
          "model_module_version": "1.5.0",
          "state": {
            "_model_module": "@jupyter-widgets/controls",
            "_model_module_version": "1.5.0",
            "_model_name": "DescriptionStyleModel",
            "_view_count": null,
            "_view_module": "@jupyter-widgets/base",
            "_view_module_version": "1.2.0",
            "_view_name": "StyleView",
            "description_width": ""
          }
        },
        "5c41de02d4244fa28cc5fb0126739741": {
          "model_module": "@jupyter-widgets/base",
          "model_name": "LayoutModel",
          "model_module_version": "1.2.0",
          "state": {
            "_model_module": "@jupyter-widgets/base",
            "_model_module_version": "1.2.0",
            "_model_name": "LayoutModel",
            "_view_count": null,
            "_view_module": "@jupyter-widgets/base",
            "_view_module_version": "1.2.0",
            "_view_name": "LayoutView",
            "align_content": null,
            "align_items": null,
            "align_self": null,
            "border": null,
            "bottom": null,
            "display": null,
            "flex": null,
            "flex_flow": null,
            "grid_area": null,
            "grid_auto_columns": null,
            "grid_auto_flow": null,
            "grid_auto_rows": null,
            "grid_column": null,
            "grid_gap": null,
            "grid_row": null,
            "grid_template_areas": null,
            "grid_template_columns": null,
            "grid_template_rows": null,
            "height": null,
            "justify_content": null,
            "justify_items": null,
            "left": null,
            "margin": null,
            "max_height": null,
            "max_width": null,
            "min_height": null,
            "min_width": null,
            "object_fit": null,
            "object_position": null,
            "order": null,
            "overflow": null,
            "overflow_x": null,
            "overflow_y": null,
            "padding": null,
            "right": null,
            "top": null,
            "visibility": null,
            "width": null
          }
        },
        "c701b923444145a5a29e63911e4849e0": {
          "model_module": "@jupyter-widgets/controls",
          "model_name": "ProgressStyleModel",
          "model_module_version": "1.5.0",
          "state": {
            "_model_module": "@jupyter-widgets/controls",
            "_model_module_version": "1.5.0",
            "_model_name": "ProgressStyleModel",
            "_view_count": null,
            "_view_module": "@jupyter-widgets/base",
            "_view_module_version": "1.2.0",
            "_view_name": "StyleView",
            "bar_color": null,
            "description_width": ""
          }
        },
        "b465030930164ba19f68cd0c827c2139": {
          "model_module": "@jupyter-widgets/base",
          "model_name": "LayoutModel",
          "model_module_version": "1.2.0",
          "state": {
            "_model_module": "@jupyter-widgets/base",
            "_model_module_version": "1.2.0",
            "_model_name": "LayoutModel",
            "_view_count": null,
            "_view_module": "@jupyter-widgets/base",
            "_view_module_version": "1.2.0",
            "_view_name": "LayoutView",
            "align_content": null,
            "align_items": null,
            "align_self": null,
            "border": null,
            "bottom": null,
            "display": null,
            "flex": null,
            "flex_flow": null,
            "grid_area": null,
            "grid_auto_columns": null,
            "grid_auto_flow": null,
            "grid_auto_rows": null,
            "grid_column": null,
            "grid_gap": null,
            "grid_row": null,
            "grid_template_areas": null,
            "grid_template_columns": null,
            "grid_template_rows": null,
            "height": null,
            "justify_content": null,
            "justify_items": null,
            "left": null,
            "margin": null,
            "max_height": null,
            "max_width": null,
            "min_height": null,
            "min_width": null,
            "object_fit": null,
            "object_position": null,
            "order": null,
            "overflow": null,
            "overflow_x": null,
            "overflow_y": null,
            "padding": null,
            "right": null,
            "top": null,
            "visibility": null,
            "width": null
          }
        },
        "f3de94feb4bb45ac9808e2abcf113361": {
          "model_module": "@jupyter-widgets/controls",
          "model_name": "DescriptionStyleModel",
          "model_module_version": "1.5.0",
          "state": {
            "_model_module": "@jupyter-widgets/controls",
            "_model_module_version": "1.5.0",
            "_model_name": "DescriptionStyleModel",
            "_view_count": null,
            "_view_module": "@jupyter-widgets/base",
            "_view_module_version": "1.2.0",
            "_view_name": "StyleView",
            "description_width": ""
          }
        }
      }
    }
  },
  "nbformat": 4,
  "nbformat_minor": 5
}