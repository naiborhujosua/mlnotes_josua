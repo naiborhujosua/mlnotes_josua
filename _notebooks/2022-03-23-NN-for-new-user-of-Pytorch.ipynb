{
 "cells": [
  {
   "cell_type": "markdown",
   "id": "56d8e932-6440-40de-9ccb-792ad321b9a6",
   "metadata": {},
   "source": [
    "# \"Model Design using Pytorch\"\n",
    "- toc: true \n",
    "- badges: true\n",
    "- comments: true\n",
    "- sticky_rank: 1\n",
    "- author: josua naiborhu\n",
    "- categories: [Pytorch, Neural Network, activation function,loss]"
   ]
  },
  {
   "cell_type": "code",
   "execution_count": 5,
   "id": "a38f5269-408a-44f2-8288-68cf86eff31c",
   "metadata": {},
   "outputs": [
    {
     "data": {
      "text/html": [
       "<img src=\"{{site.baseurl}}/images/gradientdescent.gif\"/>"
      ],
      "text/plain": [
       "<IPython.core.display.Image object>"
      ]
     },
     "execution_count": 5,
     "metadata": {},
     "output_type": "execute_result"
    }
   ],
   "source": [
    "from IPython.display import Image\n",
    "Image(url=\"{{site.baseurl}}/images/gradientdescent.gif\")"
   ]
  },
  {
   "cell_type": "markdown",
   "id": "b8985fe2-ffdf-4c7c-9cc6-f8fca3622b3c",
   "metadata": {},
   "source": [
    "Neural Network has been evolving recently. Many application has been developed by using neural network. The development of GPU provided by big company like NVIDIA has fasten how the training process in Architecture of Neural network that needs many parameters in order to get better result for any kind of problems. You can see on the GIf above how neural network works throguh many layers that involve many parameters that can create good output that can identify the real value. The practical way is image identification where Neural network through combining many layers and parameters, activation function, and loss that can be improved to identify the image based on the GIF above. We will learn the implementation through Pytorch in this tutorial."
   ]
  },
  {
   "cell_type": "markdown",
   "id": "8081c11f-ca15-4493-b203-98369b49e8e0",
   "metadata": {},
   "source": [
    "## Study Case 1\n",
    "You work as an assistant of the mayor of Somerville and the HR department has \n",
    "asked you to build a model capable of predicting whether a person is happy with \n",
    "the current administration based on their satisfaction with the city's services"
   ]
  },
  {
   "cell_type": "code",
   "execution_count": 6,
   "id": "c2798989-e0d2-490c-be2b-d5b875b9b1a2",
   "metadata": {},
   "outputs": [],
   "source": [
    "import pandas as pd \n",
    "import numpy as np\n",
    "import matplotlib.pyplot as plt\n",
    "import torch \n",
    "import torch.nn as nn \n",
    "import torch.optim as optim\n",
    "import warnings\n",
    "warnings.filterwarnings(\"ignore\")"
   ]
  },
  {
   "cell_type": "code",
   "execution_count": 7,
   "id": "091ccc6a-b94e-4a91-86d3-88a4eb72c4f8",
   "metadata": {},
   "outputs": [
    {
     "data": {
      "text/html": [
       "<div>\n",
       "<style scoped>\n",
       "    .dataframe tbody tr th:only-of-type {\n",
       "        vertical-align: middle;\n",
       "    }\n",
       "\n",
       "    .dataframe tbody tr th {\n",
       "        vertical-align: top;\n",
       "    }\n",
       "\n",
       "    .dataframe thead th {\n",
       "        text-align: right;\n",
       "    }\n",
       "</style>\n",
       "<table border=\"1\" class=\"dataframe\">\n",
       "  <thead>\n",
       "    <tr style=\"text-align: right;\">\n",
       "      <th></th>\n",
       "      <th>D</th>\n",
       "      <th>X1</th>\n",
       "      <th>X2</th>\n",
       "      <th>X3</th>\n",
       "      <th>X4</th>\n",
       "      <th>X5</th>\n",
       "      <th>X6</th>\n",
       "    </tr>\n",
       "  </thead>\n",
       "  <tbody>\n",
       "    <tr>\n",
       "      <th>0</th>\n",
       "      <td>0</td>\n",
       "      <td>3</td>\n",
       "      <td>3</td>\n",
       "      <td>3</td>\n",
       "      <td>4</td>\n",
       "      <td>2</td>\n",
       "      <td>4</td>\n",
       "    </tr>\n",
       "    <tr>\n",
       "      <th>1</th>\n",
       "      <td>0</td>\n",
       "      <td>3</td>\n",
       "      <td>2</td>\n",
       "      <td>3</td>\n",
       "      <td>5</td>\n",
       "      <td>4</td>\n",
       "      <td>3</td>\n",
       "    </tr>\n",
       "    <tr>\n",
       "      <th>2</th>\n",
       "      <td>1</td>\n",
       "      <td>5</td>\n",
       "      <td>3</td>\n",
       "      <td>3</td>\n",
       "      <td>3</td>\n",
       "      <td>3</td>\n",
       "      <td>5</td>\n",
       "    </tr>\n",
       "    <tr>\n",
       "      <th>3</th>\n",
       "      <td>0</td>\n",
       "      <td>5</td>\n",
       "      <td>4</td>\n",
       "      <td>3</td>\n",
       "      <td>3</td>\n",
       "      <td>3</td>\n",
       "      <td>5</td>\n",
       "    </tr>\n",
       "    <tr>\n",
       "      <th>4</th>\n",
       "      <td>0</td>\n",
       "      <td>5</td>\n",
       "      <td>4</td>\n",
       "      <td>3</td>\n",
       "      <td>3</td>\n",
       "      <td>3</td>\n",
       "      <td>5</td>\n",
       "    </tr>\n",
       "  </tbody>\n",
       "</table>\n",
       "</div>"
      ],
      "text/plain": [
       "   D  X1  X2  X3  X4  X5  X6\n",
       "0  0   3   3   3   4   2   4\n",
       "1  0   3   2   3   5   4   3\n",
       "2  1   5   3   3   3   3   5\n",
       "3  0   5   4   3   3   3   5\n",
       "4  0   5   4   3   3   3   5"
      ]
     },
     "execution_count": 7,
     "metadata": {},
     "output_type": "execute_result"
    }
   ],
   "source": [
    "df = pd.read_csv(\"SomervilleHappinessSurvey2015.csv\")\n",
    "df.head()"
   ]
  },
  {
   "cell_type": "markdown",
   "id": "801836e9-f92c-4dab-af6d-43caae676075",
   "metadata": {},
   "source": [
    "## Columns Information:\n",
    "\n",
    "- D = decision attribute (D) with values 0 (unhappy) and 1 (happy)\n",
    "- X1 = the availability of information about the city services\n",
    "- X2 = the cost of housing\n",
    "- X3 = the overall quality of public schools\n",
    "- X4 = your trust in the local police\n",
    "- X5 = the maintenance of streets and sidewalks\n",
    " X6 = the availability of social community events\n",
    "\n",
    "- Attributes X1 to X6 have values 1 to 5."
   ]
  },
  {
   "cell_type": "code",
   "execution_count": 8,
   "id": "815fcb5f-3d33-43b7-9dea-22c738a5ee33",
   "metadata": {},
   "outputs": [],
   "source": [
    "# Divide the features and target/label\n",
    "X = torch.tensor(df.drop(\"D\",axis=1).astype(np.float32).values)\n",
    "y = torch.tensor(df[\"D\"].astype(np.float32).values)"
   ]
  },
  {
   "cell_type": "code",
   "execution_count": 9,
   "id": "30fc7f7c-73d9-4cf5-8f73-c8f85169fe1f",
   "metadata": {},
   "outputs": [
    {
     "data": {
      "text/plain": [
       "tensor([[3., 3., 3., 4., 2., 4.],\n",
       "        [3., 2., 3., 5., 4., 3.],\n",
       "        [5., 3., 3., 3., 3., 5.],\n",
       "        [5., 4., 3., 3., 3., 5.],\n",
       "        [5., 4., 3., 3., 3., 5.],\n",
       "        [5., 5., 3., 5., 5., 5.],\n",
       "        [3., 1., 2., 2., 1., 3.],\n",
       "        [5., 4., 4., 4., 4., 5.],\n",
       "        [4., 1., 4., 4., 4., 4.],\n",
       "        [4., 4., 4., 2., 5., 5.]])"
      ]
     },
     "execution_count": 9,
     "metadata": {},
     "output_type": "execute_result"
    }
   ],
   "source": [
    "X[:10]"
   ]
  },
  {
   "cell_type": "code",
   "execution_count": 10,
   "id": "14ccf23a-158f-43f1-9a0e-79ec3b89afaa",
   "metadata": {},
   "outputs": [
    {
     "name": "stdout",
     "output_type": "stream",
     "text": [
      "Sequential(\n",
      "  (0): Linear(in_features=6, out_features=1, bias=True)\n",
      "  (1): Sigmoid()\n",
      ")\n"
     ]
    }
   ],
   "source": [
    "# Create a simple sequential neural network torch.nn\n",
    "# 6 from how many features we have \n",
    "# output whether happy or unhappy\n",
    "model = nn.Sequential(nn.Linear(6,1),\n",
    "                     nn.Sigmoid())\n",
    "print(model)\n"
   ]
  },
  {
   "cell_type": "code",
   "execution_count": 11,
   "id": "b3295c0b-a49e-4695-846c-73e1f6934173",
   "metadata": {},
   "outputs": [],
   "source": [
    "# Create loss function for classification problem and optimizer \n",
    "loss_func = nn.MSELoss()\n",
    "optimizer = optim.Adam(model.parameters(),lr=1e-2)\n"
   ]
  },
  {
   "cell_type": "code",
   "execution_count": 12,
   "id": "600c6aa6-724e-44f3-bfc3-bea63c8aaa90",
   "metadata": {},
   "outputs": [
    {
     "name": "stdout",
     "output_type": "stream",
     "text": [
      "0 0.44411277770996094\n",
      "5 0.34529080986976624\n",
      "10 0.2627233564853668\n",
      "15 0.27324753999710083\n"
     ]
    }
   ],
   "source": [
    "# Do training process \n",
    "losses =[]\n",
    "for i in range(20):\n",
    "    y_pred = model(X)\n",
    "    loss = loss_func(y_pred,y)\n",
    "    # item() is used for getting value from tensor \n",
    "    losses.append(loss.item())\n",
    "    optimizer.zero_grad()\n",
    "    #do back propagation\n",
    "    loss.backward()\n",
    "    #update weights during backward propagation\n",
    "    optimizer.step()\n",
    "    \n",
    "    if i%5 ==0:\n",
    "        print(i,loss.item())\n",
    "    "
   ]
  },
  {
   "cell_type": "markdown",
   "id": "64bfca64-3ea5-4ebd-b395-938bd4fc46e6",
   "metadata": {},
   "source": [
    "## Plot the loss for each epochs"
   ]
  },
  {
   "cell_type": "code",
   "execution_count": 13,
   "id": "45d3fd42-d442-43b7-a67d-ec46b21247c9",
   "metadata": {},
   "outputs": [
    {
     "data": {
      "text/plain": [
       "Text(0, 0.5, 'Loss')"
      ]
     },
     "execution_count": 13,
     "metadata": {},
     "output_type": "execute_result"
    },
    {
     "data": {
      "image/png": "[encoded data removed]",
      "text/plain": [
       "<Figure size 432x288 with 1 Axes>"
      ]
     },
     "metadata": {
      "needs_background": "light"
     },
     "output_type": "display_data"
    }
   ],
   "source": [
    "plt.plot(range(0,20),losses)\n",
    "plt.xlabel(\"Epoch\")\n",
    "plt.ylabel(\"Loss\")"
   ]
  },
  {
   "cell_type": "markdown",
   "id": "6edefea4-697d-459f-bd1c-1872476e4233",
   "metadata": {},
   "source": [
    "This is just a simple sequential neural network by implementing pytorch. We will deep dive into a process of building model in the study case 2 where we implement the process of Data Science lifecycle from cleaning the data,splitting the data, making the prediction and evaluating the prediction. "
   ]
  },
  {
   "cell_type": "markdown",
   "id": "7fcebe63-c18d-465a-a23c-698e5f66407e",
   "metadata": {
    "jp-MarkdownHeadingCollapsed": true,
    "tags": []
   },
   "source": [
    "## Study Case 2"
   ]
  },
  {
   "cell_type": "markdown",
   "id": "53c718cf-45db-4a3a-b672-d06ee8da17ac",
   "metadata": {
    "tags": []
   },
   "source": [
    "## Deep Learning in Bank \n",
    "Deep Learning has been implementing in many sectors including Bank.The problem thas has been happening for this sector is to predict whether bank should grant loan for the customers who will be making credit card. This is essential for Bank because it can measure how they can validate how much money that they can provide and estimate the profit from customers who will use the credit card based on a period of time. We will detect the customers who will be potential to grant loan that can affect to the income of the bank through this dataset. \n",
    "\n",
    "We will follow a few steps before modelling our data into ANN using Pytorch including :\n",
    "- Understand the data including dealing with quality of data\n",
    "- rescale the features (giving different scales for each features may result that a given features is more important thatn others as it has higher numerical values)\n",
    "- split the data"
   ]
  },
  {
   "cell_type": "code",
   "execution_count": null,
   "id": "1fff8c7a-3f10-42ba-9041-a4c312928648",
   "metadata": {},
   "outputs": [],
   "source": [
    "df_credit = pd.read_excel(\"default of credit card clients.xls\",skiprows=1)\n",
    "df_credit.head()"
   ]
  },
  {
   "cell_type": "code",
   "execution_count": null,
   "id": "564c23f3-5e52-4d94-8d58-1537f3b42d45",
   "metadata": {},
   "outputs": [],
   "source": [
    "print(f\"Rows : {df_credit.shape[0]}, Columns:{df_credit.shape[1]}\")\n"
   ]
  },
  {
   "cell_type": "code",
   "execution_count": null,
   "id": "7d2b5513-3f2b-4b1e-a477-b28510a79192",
   "metadata": {},
   "outputs": [],
   "source": [
    "data_clean =df_credit.drop([\"ID\",\"SEX\"],axis=1)\n",
    "data_clean.head()"
   ]
  },
  {
   "cell_type": "code",
   "execution_count": null,
   "id": "4b2c3f99-60fb-474d-b394-7e5404c53998",
   "metadata": {},
   "outputs": [],
   "source": [
    "# Check the missing values\n",
    "(data_clean.isnull().sum()/data_clean.shape[0]).plot()"
   ]
  },
  {
   "cell_type": "code",
   "execution_count": null,
   "id": "c394da47-aea6-41c9-a4b8-435badddb67a",
   "metadata": {},
   "outputs": [],
   "source": [
    "data_clean.describe()"
   ]
  },
  {
   "cell_type": "code",
   "execution_count": null,
   "id": "12c4a9e0-b436-45eb-abd2-a25a9b68e916",
   "metadata": {},
   "outputs": [],
   "source": [
    "# Check Outliers \n",
    "outliers  ={}\n",
    "\n",
    "for i in range(data_clean.shape[1]):\n",
    "    min_t = data_clean[data_clean.columns[i]].mean()-(3*data_clean[data_clean.columns[i]].std())\n",
    "    max_t = data_clean[data_clean.columns[i]].mean()+(3*data_clean[data_clean.columns[i]].std())\n",
    "    \n",
    "    count =0\n",
    "    for j in data_clean[data_clean.columns[i]]:\n",
    "        if j < min_t or j > max_t:\n",
    "            count +=1\n",
    "            \n",
    "    percentage = count/data_clean.shape[0]\n",
    "    \n",
    "    outliers[data_clean.columns[i]] = round(percentage,3)\n",
    "    "
   ]
  },
  {
   "cell_type": "code",
   "execution_count": null,
   "id": "87db3e9f-1e98-4cde-b91c-899f5be67066",
   "metadata": {},
   "outputs": [],
   "source": [
    "from pprint import pprint\n",
    "pprint(outliers)"
   ]
  },
  {
   "cell_type": "code",
   "execution_count": null,
   "id": "5ea9ab73-cf8f-40ce-acd0-6fdf120f896c",
   "metadata": {},
   "outputs": [],
   "source": [
    "# Check Imbalance class \n",
    "data_clean[\"default payment next month\"].value_counts().plot(kind=\"bar\")"
   ]
  },
  {
   "cell_type": "code",
   "execution_count": null,
   "id": "1ea64fb6-3941-48b3-b711-7e833d22cf26",
   "metadata": {},
   "outputs": [],
   "source": [
    "target = data_clean[\"default payment next month\"]\n",
    "yes = target[target == 1].count()\n",
    "no = target[target == 0].count()"
   ]
  },
  {
   "cell_type": "code",
   "execution_count": null,
   "id": "8769df71-af81-4ffb-b914-bf3759de1033",
   "metadata": {},
   "outputs": [],
   "source": [
    "data_yes = data_clean[data_clean[\"default payment next month\"] == 1]\n",
    "data_no = data_clean[data_clean[\"default payment next month\"] == 0]\n",
    "over_sampling = data_yes.sample(no, replace=True, \\\n",
    "                                random_state = 0)\n",
    "data_resampled = pd.concat([data_no, over_sampling], \\\n",
    "                            axis=0)"
   ]
  },
  {
   "cell_type": "code",
   "execution_count": null,
   "id": "83efde0c-4215-4694-8f98-d0f48c3e1b85",
   "metadata": {},
   "outputs": [],
   "source": [
    "# Check balance class after oversampling\n",
    "data_resampled[\"default payment next month\"].value_counts().plot(kind=\"bar\")"
   ]
  },
  {
   "cell_type": "code",
   "execution_count": null,
   "id": "ae7463b6-de6d-4275-a0a9-b10210898ad5",
   "metadata": {},
   "outputs": [],
   "source": [
    "data_resampled = data_resampled.reset_index(drop=True)\n",
    "X = data_resampled.drop(\"default payment next month\",axis=1)\n",
    "y =data_resampled[\"default payment next month\"]"
   ]
  },
  {
   "cell_type": "code",
   "execution_count": null,
   "id": "cf756d3d-4db6-4b0a-b919-90d8e0ac06cc",
   "metadata": {},
   "outputs": [],
   "source": [
    "# Rescale the data between 0 to 1\n",
    "X = (X-X.min())/(X.max()-X.min())\n",
    "X.head()"
   ]
  },
  {
   "cell_type": "code",
   "execution_count": null,
   "id": "4a5f5b4d-3aa3-4456-97cd-3f9b9eb0b4f6",
   "metadata": {},
   "outputs": [],
   "source": [
    "final_data =pd.concat([X,y],axis=1)\n",
    "final_data.to_csv(\"data_prepared.csv\",index=False)"
   ]
  },
  {
   "cell_type": "markdown",
   "id": "c332ba82-d9f6-48f8-bd8a-2d05b9c7b3c8",
   "metadata": {},
   "source": [
    "# Build Model"
   ]
  },
  {
   "cell_type": "code",
   "execution_count": null,
   "id": "77ef97b0-5b6e-42c1-97b6-35bd4dca7841",
   "metadata": {},
   "outputs": [],
   "source": [
    "import torch.nn.functional as F\n",
    "from sklearn.model_selection import train_test_split \n",
    "from sklearn.utils import shuffle \n",
    "from sklearn.metrics import accuracy_score\n",
    "\n"
   ]
  },
  {
   "cell_type": "code",
   "execution_count": null,
   "id": "d51e81f3-87a6-49d1-a7b1-0aa3ff4e4bb5",
   "metadata": {},
   "outputs": [],
   "source": [
    "data = pd.read_csv(\"data_prepared.csv\")\n",
    "data.head()"
   ]
  },
  {
   "cell_type": "code",
   "execution_count": null,
   "id": "f5412f7b-9583-4c20-80eb-21400f766b0b",
   "metadata": {},
   "outputs": [],
   "source": [
    "# Divide the target and features\n",
    "X = data.drop(\"default payment next month\",axis=1)\n",
    "y =data[\"default payment next month\"]\n"
   ]
  },
  {
   "cell_type": "code",
   "execution_count": null,
   "id": "0f2044fd-06eb-4bfb-b68e-0f907c503045",
   "metadata": {},
   "outputs": [],
   "source": [
    "X_new , X_test,y_new,y_test =train_test_split(X,y,test_size=0.2,random_state=3)\n",
    "dev_per = X_test.shape[0]/X_new.shape[0]\n",
    "X_train,X_dev,y_train,y_dev = train_test_split(X_new,y_new,test_size=dev_per,random_state=3)\n"
   ]
  },
  {
   "cell_type": "code",
   "execution_count": null,
   "id": "8286246b-ce46-47a2-a867-ac56a0dc17ef",
   "metadata": {},
   "outputs": [],
   "source": [
    "print(\"Training sets:\",X_train.shape, y_train.shape)\n",
    "print(\"Validation sets:\",X_dev.shape, y_dev.shape)\n",
    "print(\"Testing sets:\",X_test.shape, y_test.shape)"
   ]
  },
  {
   "cell_type": "code",
   "execution_count": null,
   "id": "5d42c222-264b-4927-86cd-604105e6b4f6",
   "metadata": {},
   "outputs": [],
   "source": [
    "X_dev_torch = torch.tensor(X_dev.values).float()\n",
    "y_dev_torch = torch.tensor(y_dev.values)\n",
    "X_test_torch = torch.tensor(X_test.values).float()\n",
    "y_test_torch = torch.tensor(y_test.values)"
   ]
  },
  {
   "cell_type": "code",
   "execution_count": null,
   "id": "3c38113a-5631-4b64-bcf8-acb45b838f1a",
   "metadata": {},
   "outputs": [],
   "source": [
    "class Classifier(nn.Module):\n",
    "    def __init__(self, input_size):\n",
    "        super().__init__()\n",
    "        self.hidden_1 = nn.Linear(input_size, 10)\n",
    "        self.hidden_2 = nn.Linear(10, 10)\n",
    "        self.hidden_3 = nn.Linear(10, 10)\n",
    "        self.output = nn.Linear(10, 2)\n",
    "        \n",
    "    def forward(self, x):\n",
    "        z = F.relu(self.hidden_1(x))\n",
    "        z = F.relu(self.hidden_2(z))\n",
    "        z = F.relu(self.hidden_3(z))\n",
    "        out = F.log_softmax(self.output(z), dim=1)\n",
    "        \n",
    "        return out"
   ]
  },
  {
   "cell_type": "code",
   "execution_count": null,
   "id": "1a12b067-ea3a-4cf8-b126-8ce79e529358",
   "metadata": {
    "tags": []
   },
   "outputs": [],
   "source": [
    "model = Classifier(X_train.shape[1])\n",
    "criterion = nn.NLLLoss()\n",
    "optimizer = optim.Adam(model.parameters(), lr=0.001)\n",
    "\n",
    "epochs = 50\n",
    "batch_size = 128 # for faster training procces/mini batch gradient descent"
   ]
  },
  {
   "cell_type": "code",
   "execution_count": null,
   "id": "498aec8e-de00-41ae-bdc9-8ecef36eb848",
   "metadata": {},
   "outputs": [],
   "source": [
    "# Training Process\n",
    "train_losses,dev_losses,train_acc,dev_acc =[],[],[],[]\n",
    "\n",
    "for epoch in range(epochs):\n",
    "    X_,y_ =shuffle(X_train,y_train)\n",
    "    running_loss=0\n",
    "    running_acc=0\n",
    "    iterations =0\n",
    "    \n",
    "    for i in range(0,len(X_),batch_size):\n",
    "        iterations +=1\n",
    "        b = i +batch_size\n",
    "        X_batch = torch.tensor(X_.iloc[i:b,:].values).float()\n",
    "        y_batch = torch.tensor(y_.iloc[i:b].values)\n",
    "        \n",
    "        pred = model(X_batch)\n",
    "        loss = criterion(pred,y_batch)\n",
    "        optimizer.zero_grad()\n",
    "        loss.backward()\n",
    "        optimizer.step()\n",
    "        \n",
    "        running_loss +=loss.item()\n",
    "        ps = torch.exp(pred)\n",
    "        top_p,top_class = ps.topk(1,dim=1)\n",
    "        running_acc +=accuracy_score(y_batch,top_class)\n",
    "        \n",
    "    dev_loss =0\n",
    "    acc =0\n",
    "    \n",
    "    with torch.no_grad():\n",
    "        pred_dev = model(X_dev_torch)\n",
    "        dev_loss =criterion(pred_dev,y_dev_torch)\n",
    "        \n",
    "        ps_dev = torch.exp(pred_dev)\n",
    "        top_p,top_class_dev = ps_dev.topk(1,dim=1)\n",
    "        acc +=accuracy_score(y_dev_torch,top_class_dev)\n",
    "        \n",
    "    train_losses.append(running_loss/iterations)\n",
    "    dev_losses.append(dev_loss)\n",
    "    train_acc.append(running_acc/iterations)\n",
    "    dev_acc.append(acc)\n",
    "    print(\"Epoch: {}/{}.. \".format(epoch+1, epochs),\n",
    "          \"Training Loss: {:.3f}.. \".format(running_loss/iterations),\n",
    "          \"Validation Loss: {:.3f}.. \".format(dev_loss),\n",
    "          \"Training Accuracy: {:.3f}.. \".format(running_acc/iterations),\n",
    "          \"Validation Accuracy: {:.3f}\".format(acc))\n",
    "        "
   ]
  },
  {
   "cell_type": "code",
   "execution_count": null,
   "id": "ba156d13-0137-4397-b2f9-b3b91390c402",
   "metadata": {},
   "outputs": [],
   "source": [
    "fig = plt.subplots(figsize=(15,5))\n",
    "plt.plot(train_losses,label=\"Training loss\")\n",
    "plt.plot(dev_losses,label=\"Validation loss\")\n",
    "plt.legend(frameon=False, fontsize=15)\n"
   ]
  },
  {
   "cell_type": "code",
   "execution_count": null,
   "id": "8ba68e30-4779-40a0-83c3-4eaa894581e1",
   "metadata": {},
   "outputs": [],
   "source": [
    "fig = plt.subplots(figsize=(15,5))\n",
    "plt.plot(train_acc,label=\"Training accuracy\")\n",
    "plt.plot(dev_acc,label=\"Validation accuracy\")\n",
    "plt.legend(frameon=False, fontsize=15)\n"
   ]
  },
  {
   "cell_type": "markdown",
   "id": "e5e264de-a0ae-4bd0-9e51-5f5d9f5b00c5",
   "metadata": {},
   "source": [
    "We can see there is lower loss and high accuracy on the graph above. We can do tune the learning rate for getting better result. You can do the experimentation by comparing the LR as well."
   ]
  },
  {
   "cell_type": "code",
   "execution_count": null,
   "id": "6ca4d59c-690c-4b20-b042-2accd7b4b983",
   "metadata": {},
   "outputs": [],
   "source": []
  },
  {
   "cell_type": "code",
   "execution_count": null,
   "id": "f9a00999-b044-43ef-aa27-ade10bd65206",
   "metadata": {},
   "outputs": [],
   "source": []
  }
 ],
 "metadata": {
  "kernelspec": {
   "display_name": "Python 3",
   "language": "python",
   "name": "python3"
  },
  "language_info": {
   "codemirror_mode": {
    "name": "ipython",
    "version": 3
   },
   "file_extension": ".py",
   "mimetype": "text/x-python",
   "name": "python",
   "nbconvert_exporter": "python",
   "pygments_lexer": "ipython3",
   "version": "3.9.12"
  }
 },
 "nbformat": 4,
 "nbformat_minor": 5
}
